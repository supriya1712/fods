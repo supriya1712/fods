{
  "nbformat": 4,
  "nbformat_minor": 0,
  "metadata": {
    "colab": {
      "provenance": [],
      "authorship_tag": "ABX9TyNOQ5MGbJMHjKpa6oZXfee4",
      "include_colab_link": true
    },
    "kernelspec": {
      "name": "python3",
      "display_name": "Python 3"
    },
    "language_info": {
      "name": "python"
    }
  },
  "cells": [
    {
      "cell_type": "markdown",
      "metadata": {
        "id": "view-in-github",
        "colab_type": "text"
      },
      "source": [
        "<a href=\"https://colab.research.google.com/github/supriya1712/fods/blob/main/Untitled0.ipynb\" target=\"_parent\"><img src=\"https://colab.research.google.com/assets/colab-badge.svg\" alt=\"Open In Colab\"/></a>"
      ]
    },
    {
      "cell_type": "code",
      "execution_count": 1,
      "metadata": {
        "id": "9oVcugVc23Vo"
      },
      "outputs": [],
      "source": [
        "import pandas as pd\n",
        "import numpy as np\n",
        "import matplotlib.pyplot as plt"
      ]
    },
    {
      "cell_type": "code",
      "source": [
        "df = pd.read_csv(\"chocolate_makers.csv\")\n",
        "print(df.head())"
      ],
      "metadata": {
        "colab": {
          "base_uri": "https://localhost:8080/"
        },
        "id": "gIgiXuLI4H1m",
        "outputId": "a2c3f20a-60e3-4ced-b09e-d2df94e338fc"
      },
      "execution_count": 2,
      "outputs": [
        {
          "output_type": "stream",
          "name": "stdout",
          "text": [
            "              COMPANY NAME     CITY STATE/PROVINCE  \\\n",
            "0                  Choklat  Calgary        Alberta   \n",
            "1  Yukon Chocolate Company  Calgary        Alberta   \n",
            "2                  Kin+Pod  Calgary        Alberta   \n",
            "3                   Goldie  Calgary        Alberta   \n",
            "4           Moth Chocolate  Calgary        Alberta   \n",
            "\n",
            "                          OWNER/MAKER COUNTRY  \n",
            "0                      Brad Churchill  Canada  \n",
            "1                        Sydney Oland  Canada  \n",
            "2                      Georden Spicer  Canada  \n",
            "3               Amy Horne (instagram)  Canada  \n",
            "4  Geordan Spicer (mothchocolate.com)  Canada  \n"
          ]
        }
      ]
    },
    {
      "cell_type": "code",
      "source": [
        "features = df.columns\n",
        "print(features)"
      ],
      "metadata": {
        "colab": {
          "base_uri": "https://localhost:8080/"
        },
        "id": "7I4byrIb4iHi",
        "outputId": "82a0dc8b-6142-403a-b47b-c80248655cbb"
      },
      "execution_count": 3,
      "outputs": [
        {
          "output_type": "stream",
          "name": "stdout",
          "text": [
            "Index(['COMPANY NAME', 'CITY', 'STATE/PROVINCE', 'OWNER/MAKER', 'COUNTRY'], dtype='object')\n"
          ]
        }
      ]
    },
    {
      "cell_type": "code",
      "source": [
        "data_types=df.dtypes\n",
        "print(data_types)"
      ],
      "metadata": {
        "colab": {
          "base_uri": "https://localhost:8080/"
        },
        "id": "8EWCJBxJ4sp6",
        "outputId": "e76fb1e7-1ef9-455a-9151-d05dff750779"
      },
      "execution_count": 4,
      "outputs": [
        {
          "output_type": "stream",
          "name": "stdout",
          "text": [
            "COMPANY NAME      object\n",
            "CITY              object\n",
            "STATE/PROVINCE    object\n",
            "OWNER/MAKER       object\n",
            "COUNTRY           object\n",
            "dtype: object\n"
          ]
        }
      ]
    },
    {
      "cell_type": "code",
      "source": [
        "summary=df.describe()\n",
        "print(summary)"
      ],
      "metadata": {
        "colab": {
          "base_uri": "https://localhost:8080/"
        },
        "id": "dPIK5oDT48Rr",
        "outputId": "0b6e5e43-0de1-4e5e-ecc0-87c84f40cc17"
      },
      "execution_count": 5,
      "outputs": [
        {
          "output_type": "stream",
          "name": "stdout",
          "text": [
            "       COMPANY NAME      CITY STATE/PROVINCE     OWNER/MAKER COUNTRY\n",
            "count           373       373            373             370     373\n",
            "unique          373       266             59             368       2\n",
            "top         Choklat  New York     California  Seneca Klassen      US\n",
            "freq              1        14             43               2     316\n"
          ]
        }
      ]
    }
  ]
}